{
 "cells": [
  {
   "cell_type": "markdown",
   "metadata": {},
   "source": [
    "# Julia 機器學習：Clustering 分群模型\n",
    "\n",
    "## 作業 028：資料分群\n",
    "\n",
    "從提供的檔案中讀取資料，利用分群模型將資料分群後並將資料視覺化。資料中有 15 群，並利用 k-means 去對資料做分群。資料取自 http://cs.uef.fi/sipu/datasets/"
   ]
  },
  {
   "cell_type": "code",
   "execution_count": 7,
   "metadata": {},
   "outputs": [],
   "source": [
    "using Clustering, CSV, DataFrames"
   ]
  },
  {
   "cell_type": "markdown",
   "metadata": {},
   "source": [
    "## 讀取資料"
   ]
  },
  {
   "cell_type": "code",
   "execution_count": 9,
   "metadata": {},
   "outputs": [
    {
     "data": {
      "text/plain": [
       "2×5000 LinearAlgebra.Adjoint{Int64,Array{Int64,2}}:\n",
       " 664159  665845  597173  618600  635690  …  691827  650661  599647  684091\n",
       " 550946  557965  575538  551446  608046     863963  861267  858702  842566"
      ]
     },
     "execution_count": 9,
     "metadata": {},
     "output_type": "execute_result"
    }
   ],
   "source": [
    "X = Matrix(data[:, 1:2])'"
   ]
  },
  {
   "cell_type": "code",
   "execution_count": 10,
   "metadata": {},
   "outputs": [
    {
     "data": {
      "text/plain": [
       "KmeansResult{Array{Float64,2},Float64,Int64}([510190.5118343195 417799.6942675159 … 387428.92424242425 141004.54285714286; 177805.08875739644 787001.9936305733 … 132553.0303030303 557993.22], [6, 6, 6, 6, 6, 6, 6, 6, 6, 6  …  5, 5, 5, 5, 5, 5, 5, 5, 5, 5], [3.868603093541992e9, 3.784863740838379e9, 8.956930531298828e7, 6.740235058618164e8, 1.976029744717041e9, 6.258253758146973e8, 1.402054662494873e9, 3.6132858852539062e6, 4.345366158831543e9, 3.3965333364257812e6  …  2.782454939169922e8, 5.595652414916992e9, 2.9773947540195312e9, 1.2777467247363281e8, 4.674976160428711e9, 1.0817732159863281e8, 4.381570026557617e8, 4.130407882919922e8, 5.097647169803223e9, 5.81265660621582e8], [338, 314, 349, 340, 352, 297, 335, 316, 341, 669, 319, 287, 327, 66, 350], [338, 314, 349, 340, 352, 297, 335, 316, 341, 669, 319, 287, 327, 66, 350], 1.3452055843633266e13, 5, true)"
      ]
     },
     "execution_count": 10,
     "metadata": {},
     "output_type": "execute_result"
    }
   ],
   "source": [
    "# K-means 分群模型\n",
    "k = 15\n",
    "result = kmeans(X, k)"
   ]
  },
  {
   "cell_type": "code",
   "execution_count": 31,
   "metadata": {},
   "outputs": [],
   "source": [
    "# 取得分群\n",
    "data[!, :cluster] = string.(assignments(result));"
   ]
  },
  {
   "cell_type": "code",
   "execution_count": 12,
   "metadata": {},
   "outputs": [
    {
     "data": {
      "text/plain": [
       "2×15 Array{Float64,2}:\n",
       " 510191.0  417800.0  858948.0  616093.0  …  852058.0  387429.0  141005.0\n",
       " 177805.0  787002.0  546260.0  399622.0     157686.0  132553.0  557993.0"
      ]
     },
     "execution_count": 12,
     "metadata": {},
     "output_type": "execute_result"
    }
   ],
   "source": [
    "# 取得群中心\n",
    "result.centers"
   ]
  },
  {
   "cell_type": "code",
   "execution_count": 32,
   "metadata": {},
   "outputs": [
    {
     "ename": "UndefVarError",
     "evalue": "UndefVarError: plot not defined",
     "output_type": "error",
     "traceback": [
      "UndefVarError: plot not defined",
      "",
      "Stacktrace:",
      " [1] top-level scope at In[32]:1"
     ]
    }
   ],
   "source": [
    "# 視覺化分群結果\n",
    "plot(data, x=\"x\", y=\"y\", color=\"cluster\", Geom.point)"
   ]
  }
 ],
 "metadata": {
  "kernelspec": {
   "display_name": "Julia 1.4.1",
   "language": "julia",
   "name": "julia-1.4"
  },
  "language_info": {
   "file_extension": ".jl",
   "mimetype": "application/julia",
   "name": "julia",
   "version": "1.4.1"
  }
 },
 "nbformat": 4,
 "nbformat_minor": 4
}
