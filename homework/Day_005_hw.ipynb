{
 "cells": [
  {
   "cell_type": "markdown",
   "metadata": {},
   "source": [
    "蒙地卡羅方法 (Monte Carlo Method) 也稱為統計類比方法，可透過隨機分布的特徵數轉化為求解問題的答案，例如隨機數出現的機率。利用蒙地卡羅方法，估算圓周率的方式是藉由輸入隨機數來計算圓面積的過程，計算出圓周率 $\\pi$。\n",
    "\n",
    "\n",
    "\n",
    "假設有一個直徑長為 1 的圓形，要使用蒙地卡羅方法計算其面積，我們隨機塞入 N 個點到上面的正方形當中，有些點會落在圓形內而有些點會在圓形外，算出落在圓形內點的數目就可以得到圓形的面積。\n",
    "\n",
    "假設半徑為 $r$，圓形面積的計算公式為 $$\\pi r^2=\\pi\\times0.5^2=\\frac{\\pi}{4}$$\n",
    "\n",
    "並以此得到 $$\\pi=4\\times面積=4\\times\\frac{落在圓內的點}{所有的點}$$"
   ]
  },
  {
   "cell_type": "code",
   "execution_count": 1,
   "metadata": {},
   "outputs": [
    {
     "data": {
      "text/plain": [
       "0.5"
      ]
     },
     "execution_count": 1,
     "metadata": {},
     "output_type": "execute_result"
    }
   ],
   "source": [
    "radius = 0.5"
   ]
  },
  {
   "cell_type": "code",
   "execution_count": 2,
   "metadata": {},
   "outputs": [
    {
     "data": {
      "text/plain": [
       "100000"
      ]
     },
     "execution_count": 2,
     "metadata": {},
     "output_type": "execute_result"
    }
   ],
   "source": [
    "n = 100000"
   ]
  },
  {
   "cell_type": "code",
   "execution_count": 11,
   "metadata": {},
   "outputs": [
    {
     "data": {
      "text/plain": [
       "0"
      ]
     },
     "execution_count": 11,
     "metadata": {},
     "output_type": "execute_result"
    }
   ],
   "source": [
    "count = 0"
   ]
  },
  {
   "cell_type": "code",
   "execution_count": 12,
   "metadata": {},
   "outputs": [],
   "source": [
    "for i = 1:n\n",
    "    x = rand()\n",
    "    y = rand()\n",
    "\n",
    "    dist = sqrt((x-radius)^2 + (y-radius)^2)\n",
    "    \n",
    "    if dist <= radius\n",
    "        count += 1\n",
    "    end\n",
    "end"
   ]
  },
  {
   "cell_type": "code",
   "execution_count": 13,
   "metadata": {},
   "outputs": [
    {
     "data": {
      "text/plain": [
       "3.14808"
      ]
     },
     "execution_count": 13,
     "metadata": {},
     "output_type": "execute_result"
    }
   ],
   "source": [
    "mypi = 4 * count/n"
   ]
  }
 ],
 "metadata": {
  "kernelspec": {
   "display_name": "Julia 1.4.1",
   "language": "julia",
   "name": "julia-1.4"
  },
  "language_info": {
   "file_extension": ".jl",
   "mimetype": "application/julia",
   "name": "julia",
   "version": "1.4.1"
  }
 },
 "nbformat": 4,
 "nbformat_minor": 4
}
