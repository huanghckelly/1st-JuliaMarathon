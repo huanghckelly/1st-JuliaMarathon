{
 "cells": [
  {
   "cell_type": "markdown",
   "metadata": {
    "colab_type": "text",
    "id": "2X-9mXIwlD2v"
   },
   "source": [
    "# DataFrames.jl 介紹 (二): Joins 與 Split-Apply-Combine Strategy\n",
    "\n",
    "## Day 018 作業1：The Split-Apply-Combine Strategy\n",
    "\n",
    "同 Day 017，請載入 2020/4/2 COVID-19 Daily Report 資料集，計算每個國家/地區的累計確診人數，並列出所有資料筆數。"
   ]
  },
  {
   "cell_type": "code",
   "execution_count": 18,
   "metadata": {
    "colab": {},
    "colab_type": "code",
    "id": "jw9JRWRilD2w"
   },
   "outputs": [],
   "source": [
    "using DataFrames, CSV, Statistics"
   ]
  },
  {
   "cell_type": "code",
   "execution_count": 2,
   "metadata": {
    "colab": {},
    "colab_type": "code",
    "id": "yYc3lmgzlD22",
    "outputId": "7b405ad5-8c9c-4214-b100-40a6f3febe51"
   },
   "outputs": [
    {
     "data": {
      "text/html": [
       "<table class=\"data-frame\"><thead><tr><th></th><th>FIPS</th><th>Admin2</th><th>Province_State</th><th>Country_Region</th><th>Last_Update</th><th>Lat</th></tr><tr><th></th><th>Int64⍰</th><th>String⍰</th><th>String⍰</th><th>String</th><th>String</th><th>Float64⍰</th></tr></thead><tbody><p>2,569 rows × 12 columns (omitted printing of 6 columns)</p><tr><th>1</th><td>45001</td><td>Abbeville</td><td>South Carolina</td><td>US</td><td>2020-04-02 23:25:27</td><td>34.2233</td></tr><tr><th>2</th><td>22001</td><td>Acadia</td><td>Louisiana</td><td>US</td><td>2020-04-02 23:25:27</td><td>30.2951</td></tr><tr><th>3</th><td>51001</td><td>Accomack</td><td>Virginia</td><td>US</td><td>2020-04-02 23:25:27</td><td>37.7671</td></tr><tr><th>4</th><td>16001</td><td>Ada</td><td>Idaho</td><td>US</td><td>2020-04-02 23:25:27</td><td>43.4527</td></tr><tr><th>5</th><td>19001</td><td>Adair</td><td>Iowa</td><td>US</td><td>2020-04-02 23:25:27</td><td>41.3308</td></tr><tr><th>6</th><td>29001</td><td>Adair</td><td>Missouri</td><td>US</td><td>2020-04-02 23:25:27</td><td>40.1906</td></tr><tr><th>7</th><td>40001</td><td>Adair</td><td>Oklahoma</td><td>US</td><td>2020-04-02 23:25:27</td><td>35.8849</td></tr><tr><th>8</th><td>8001</td><td>Adams</td><td>Colorado</td><td>US</td><td>2020-04-02 23:25:27</td><td>39.8743</td></tr><tr><th>9</th><td>16003</td><td>Adams</td><td>Idaho</td><td>US</td><td>2020-04-02 23:25:27</td><td>44.8933</td></tr><tr><th>10</th><td>17001</td><td>Adams</td><td>Illinois</td><td>US</td><td>2020-04-02 23:25:27</td><td>39.9882</td></tr><tr><th>11</th><td>18001</td><td>Adams</td><td>Indiana</td><td>US</td><td>2020-04-02 23:25:27</td><td>40.7458</td></tr><tr><th>12</th><td>28001</td><td>Adams</td><td>Mississippi</td><td>US</td><td>2020-04-02 23:25:27</td><td>31.4767</td></tr><tr><th>13</th><td>31001</td><td>Adams</td><td>Nebraska</td><td>US</td><td>2020-04-02 23:25:27</td><td>40.5245</td></tr><tr><th>14</th><td>42001</td><td>Adams</td><td>Pennsylvania</td><td>US</td><td>2020-04-02 23:25:27</td><td>39.8714</td></tr><tr><th>15</th><td>53001</td><td>Adams</td><td>Washington</td><td>US</td><td>2020-04-02 23:25:27</td><td>46.983</td></tr><tr><th>16</th><td>55001</td><td>Adams</td><td>Wisconsin</td><td>US</td><td>2020-04-02 23:25:27</td><td>43.9697</td></tr><tr><th>17</th><td>50001</td><td>Addison</td><td>Vermont</td><td>US</td><td>2020-04-02 23:25:27</td><td>44.0322</td></tr><tr><th>18</th><td>45003</td><td>Aiken</td><td>South Carolina</td><td>US</td><td>2020-04-02 23:25:27</td><td>33.5434</td></tr><tr><th>19</th><td>12001</td><td>Alachua</td><td>Florida</td><td>US</td><td>2020-04-02 23:25:27</td><td>29.6787</td></tr><tr><th>20</th><td>37001</td><td>Alamance</td><td>North Carolina</td><td>US</td><td>2020-04-02 23:25:27</td><td>36.0435</td></tr><tr><th>21</th><td>6001</td><td>Alameda</td><td>California</td><td>US</td><td>2020-04-02 23:25:27</td><td>37.6463</td></tr><tr><th>22</th><td>8003</td><td>Alamosa</td><td>Colorado</td><td>US</td><td>2020-04-02 23:25:27</td><td>37.5725</td></tr><tr><th>23</th><td>36001</td><td>Albany</td><td>New York</td><td>US</td><td>2020-04-02 23:25:27</td><td>42.6006</td></tr><tr><th>24</th><td>56001</td><td>Albany</td><td>Wyoming</td><td>US</td><td>2020-04-02 23:25:27</td><td>41.655</td></tr><tr><th>25</th><td>51003</td><td>Albemarle</td><td>Virginia</td><td>US</td><td>2020-04-02 23:25:27</td><td>38.0208</td></tr><tr><th>26</th><td>28003</td><td>Alcorn</td><td>Mississippi</td><td>US</td><td>2020-04-02 23:25:27</td><td>34.8808</td></tr><tr><th>27</th><td>37003</td><td>Alexander</td><td>North Carolina</td><td>US</td><td>2020-04-02 23:25:27</td><td>35.9224</td></tr><tr><th>28</th><td>51510</td><td>Alexandria</td><td>Virginia</td><td>US</td><td>2020-04-02 23:25:27</td><td>38.814</td></tr><tr><th>29</th><td>19005</td><td>Allamakee</td><td>Iowa</td><td>US</td><td>2020-04-02 23:25:27</td><td>43.2838</td></tr><tr><th>30</th><td>26005</td><td>Allegan</td><td>Michigan</td><td>US</td><td>2020-04-02 23:25:27</td><td>42.5915</td></tr><tr><th>&vellip;</th><td>&vellip;</td><td>&vellip;</td><td>&vellip;</td><td>&vellip;</td><td>&vellip;</td><td>&vellip;</td></tr></tbody></table>"
      ],
      "text/latex": [
       "\\begin{tabular}{r|ccccccc}\n",
       "\t& FIPS & Admin2 & Province\\_State & Country\\_Region & Last\\_Update & Lat & \\\\\n",
       "\t\\hline\n",
       "\t& Int64⍰ & String⍰ & String⍰ & String & String & Float64⍰ & \\\\\n",
       "\t\\hline\n",
       "\t1 & 45001 & Abbeville & South Carolina & US & 2020-04-02 23:25:27 & 34.2233 & $\\dots$ \\\\\n",
       "\t2 & 22001 & Acadia & Louisiana & US & 2020-04-02 23:25:27 & 30.2951 & $\\dots$ \\\\\n",
       "\t3 & 51001 & Accomack & Virginia & US & 2020-04-02 23:25:27 & 37.7671 & $\\dots$ \\\\\n",
       "\t4 & 16001 & Ada & Idaho & US & 2020-04-02 23:25:27 & 43.4527 & $\\dots$ \\\\\n",
       "\t5 & 19001 & Adair & Iowa & US & 2020-04-02 23:25:27 & 41.3308 & $\\dots$ \\\\\n",
       "\t6 & 29001 & Adair & Missouri & US & 2020-04-02 23:25:27 & 40.1906 & $\\dots$ \\\\\n",
       "\t7 & 40001 & Adair & Oklahoma & US & 2020-04-02 23:25:27 & 35.8849 & $\\dots$ \\\\\n",
       "\t8 & 8001 & Adams & Colorado & US & 2020-04-02 23:25:27 & 39.8743 & $\\dots$ \\\\\n",
       "\t9 & 16003 & Adams & Idaho & US & 2020-04-02 23:25:27 & 44.8933 & $\\dots$ \\\\\n",
       "\t10 & 17001 & Adams & Illinois & US & 2020-04-02 23:25:27 & 39.9882 & $\\dots$ \\\\\n",
       "\t11 & 18001 & Adams & Indiana & US & 2020-04-02 23:25:27 & 40.7458 & $\\dots$ \\\\\n",
       "\t12 & 28001 & Adams & Mississippi & US & 2020-04-02 23:25:27 & 31.4767 & $\\dots$ \\\\\n",
       "\t13 & 31001 & Adams & Nebraska & US & 2020-04-02 23:25:27 & 40.5245 & $\\dots$ \\\\\n",
       "\t14 & 42001 & Adams & Pennsylvania & US & 2020-04-02 23:25:27 & 39.8714 & $\\dots$ \\\\\n",
       "\t15 & 53001 & Adams & Washington & US & 2020-04-02 23:25:27 & 46.983 & $\\dots$ \\\\\n",
       "\t16 & 55001 & Adams & Wisconsin & US & 2020-04-02 23:25:27 & 43.9697 & $\\dots$ \\\\\n",
       "\t17 & 50001 & Addison & Vermont & US & 2020-04-02 23:25:27 & 44.0322 & $\\dots$ \\\\\n",
       "\t18 & 45003 & Aiken & South Carolina & US & 2020-04-02 23:25:27 & 33.5434 & $\\dots$ \\\\\n",
       "\t19 & 12001 & Alachua & Florida & US & 2020-04-02 23:25:27 & 29.6787 & $\\dots$ \\\\\n",
       "\t20 & 37001 & Alamance & North Carolina & US & 2020-04-02 23:25:27 & 36.0435 & $\\dots$ \\\\\n",
       "\t21 & 6001 & Alameda & California & US & 2020-04-02 23:25:27 & 37.6463 & $\\dots$ \\\\\n",
       "\t22 & 8003 & Alamosa & Colorado & US & 2020-04-02 23:25:27 & 37.5725 & $\\dots$ \\\\\n",
       "\t23 & 36001 & Albany & New York & US & 2020-04-02 23:25:27 & 42.6006 & $\\dots$ \\\\\n",
       "\t24 & 56001 & Albany & Wyoming & US & 2020-04-02 23:25:27 & 41.655 & $\\dots$ \\\\\n",
       "\t25 & 51003 & Albemarle & Virginia & US & 2020-04-02 23:25:27 & 38.0208 & $\\dots$ \\\\\n",
       "\t26 & 28003 & Alcorn & Mississippi & US & 2020-04-02 23:25:27 & 34.8808 & $\\dots$ \\\\\n",
       "\t27 & 37003 & Alexander & North Carolina & US & 2020-04-02 23:25:27 & 35.9224 & $\\dots$ \\\\\n",
       "\t28 & 51510 & Alexandria & Virginia & US & 2020-04-02 23:25:27 & 38.814 & $\\dots$ \\\\\n",
       "\t29 & 19005 & Allamakee & Iowa & US & 2020-04-02 23:25:27 & 43.2838 & $\\dots$ \\\\\n",
       "\t30 & 26005 & Allegan & Michigan & US & 2020-04-02 23:25:27 & 42.5915 & $\\dots$ \\\\\n",
       "\t$\\dots$ & $\\dots$ & $\\dots$ & $\\dots$ & $\\dots$ & $\\dots$ & $\\dots$ &  \\\\\n",
       "\\end{tabular}\n"
      ],
      "text/plain": [
       "2569×12 DataFrame. Omitted printing of 8 columns\n",
       "│ Row  │ FIPS    │ Admin2     │ Province_State │ Country_Region       │\n",
       "│      │ \u001b[90mInt64⍰\u001b[39m  │ \u001b[90mString⍰\u001b[39m    │ \u001b[90mString⍰\u001b[39m        │ \u001b[90mString\u001b[39m               │\n",
       "├──────┼─────────┼────────────┼────────────────┼──────────────────────┤\n",
       "│ 1    │ 45001   │ Abbeville  │ South Carolina │ US                   │\n",
       "│ 2    │ 22001   │ Acadia     │ Louisiana      │ US                   │\n",
       "│ 3    │ 51001   │ Accomack   │ Virginia       │ US                   │\n",
       "│ 4    │ 16001   │ Ada        │ Idaho          │ US                   │\n",
       "│ 5    │ 19001   │ Adair      │ Iowa           │ US                   │\n",
       "│ 6    │ 29001   │ Adair      │ Missouri       │ US                   │\n",
       "│ 7    │ 40001   │ Adair      │ Oklahoma       │ US                   │\n",
       "│ 8    │ 8001    │ Adams      │ Colorado       │ US                   │\n",
       "│ 9    │ 16003   │ Adams      │ Idaho          │ US                   │\n",
       "│ 10   │ 17001   │ Adams      │ Illinois       │ US                   │\n",
       "⋮\n",
       "│ 2559 │ \u001b[90mmissing\u001b[39m │ \u001b[90mmissing\u001b[39m    │ \u001b[90mmissing\u001b[39m        │ Ukraine              │\n",
       "│ 2560 │ \u001b[90mmissing\u001b[39m │ \u001b[90mmissing\u001b[39m    │ \u001b[90mmissing\u001b[39m        │ United Arab Emirates │\n",
       "│ 2561 │ \u001b[90mmissing\u001b[39m │ \u001b[90mmissing\u001b[39m    │ \u001b[90mmissing\u001b[39m        │ United Kingdom       │\n",
       "│ 2562 │ \u001b[90mmissing\u001b[39m │ \u001b[90mmissing\u001b[39m    │ \u001b[90mmissing\u001b[39m        │ Uruguay              │\n",
       "│ 2563 │ \u001b[90mmissing\u001b[39m │ \u001b[90mmissing\u001b[39m    │ \u001b[90mmissing\u001b[39m        │ Uzbekistan           │\n",
       "│ 2564 │ \u001b[90mmissing\u001b[39m │ \u001b[90mmissing\u001b[39m    │ \u001b[90mmissing\u001b[39m        │ Venezuela            │\n",
       "│ 2565 │ \u001b[90mmissing\u001b[39m │ \u001b[90mmissing\u001b[39m    │ \u001b[90mmissing\u001b[39m        │ Vietnam              │\n",
       "│ 2566 │ \u001b[90mmissing\u001b[39m │ \u001b[90mmissing\u001b[39m    │ \u001b[90mmissing\u001b[39m        │ West Bank and Gaza   │\n",
       "│ 2567 │ \u001b[90mmissing\u001b[39m │ \u001b[90mmissing\u001b[39m    │ \u001b[90mmissing\u001b[39m        │ Zambia               │\n",
       "│ 2568 │ \u001b[90mmissing\u001b[39m │ \u001b[90mmissing\u001b[39m    │ \u001b[90mmissing\u001b[39m        │ Zimbabwe             │\n",
       "│ 2569 │ \u001b[90mmissing\u001b[39m │ unassigned │ Wyoming        │ US                   │"
      ]
     },
     "execution_count": 2,
     "metadata": {},
     "output_type": "execute_result"
    }
   ],
   "source": [
    "df = CSV.read(\"04-02-2020.csv\")"
   ]
  },
  {
   "cell_type": "markdown",
   "metadata": {
    "colab_type": "text",
    "id": "Pw8WALcSlD28"
   },
   "source": [
    "計算計算每個國家/地區的累計確診人數\n",
    "\n",
    "【提示】可使用 groupby 相關的函式"
   ]
  },
  {
   "cell_type": "code",
   "execution_count": 6,
   "metadata": {
    "colab": {},
    "colab_type": "code",
    "id": "OPoCjf98lD29"
   },
   "outputs": [
    {
     "data": {
      "text/html": [
       "<table class=\"data-frame\"><thead><tr><th></th><th>Province_State</th><th>Confirmed_sum</th></tr><tr><th></th><th>String⍰</th><th>Int64</th></tr></thead><tbody><p>136 rows × 2 columns</p><tr><th>1</th><td>South Carolina</td><td>1554</td></tr><tr><th>2</th><td>Louisiana</td><td>9159</td></tr><tr><th>3</th><td>Virginia</td><td>1706</td></tr><tr><th>4</th><td>Idaho</td><td>776</td></tr><tr><th>5</th><td>Iowa</td><td>614</td></tr><tr><th>6</th><td>Missouri</td><td>1857</td></tr><tr><th>7</th><td>Oklahoma</td><td>881</td></tr><tr><th>8</th><td>Colorado</td><td>3342</td></tr><tr><th>9</th><td>Illinois</td><td>7695</td></tr><tr><th>10</th><td>Indiana</td><td>3038</td></tr><tr><th>11</th><td>Mississippi</td><td>1177</td></tr><tr><th>12</th><td>Nebraska</td><td>246</td></tr><tr><th>13</th><td>Pennsylvania</td><td>7268</td></tr><tr><th>14</th><td>Washington</td><td>6389</td></tr><tr><th>15</th><td>Wisconsin</td><td>1748</td></tr><tr><th>16</th><td>Vermont</td><td>338</td></tr><tr><th>17</th><td>Florida</td><td>9008</td></tr><tr><th>18</th><td>North Carolina</td><td>1977</td></tr><tr><th>19</th><td>California</td><td>10773</td></tr><tr><th>20</th><td>New York</td><td>92506</td></tr><tr><th>21</th><td>Wyoming</td><td>150</td></tr><tr><th>22</th><td>Michigan</td><td>10791</td></tr><tr><th>23</th><td>Maryland</td><td>2331</td></tr><tr><th>24</th><td>Kentucky</td><td>770</td></tr><tr><th>25</th><td>Ohio</td><td>2901</td></tr><tr><th>26</th><td>Alaska</td><td>143</td></tr><tr><th>27</th><td>Kansas</td><td>553</td></tr><tr><th>28</th><td>Tennessee</td><td>2845</td></tr><tr><th>29</th><td>Texas</td><td>5069</td></tr><tr><th>30</th><td>Maine</td><td>376</td></tr><tr><th>&vellip;</th><td>&vellip;</td><td>&vellip;</td></tr></tbody></table>"
      ],
      "text/latex": [
       "\\begin{tabular}{r|cc}\n",
       "\t& Province\\_State & Confirmed\\_sum\\\\\n",
       "\t\\hline\n",
       "\t& String⍰ & Int64\\\\\n",
       "\t\\hline\n",
       "\t1 & South Carolina & 1554 \\\\\n",
       "\t2 & Louisiana & 9159 \\\\\n",
       "\t3 & Virginia & 1706 \\\\\n",
       "\t4 & Idaho & 776 \\\\\n",
       "\t5 & Iowa & 614 \\\\\n",
       "\t6 & Missouri & 1857 \\\\\n",
       "\t7 & Oklahoma & 881 \\\\\n",
       "\t8 & Colorado & 3342 \\\\\n",
       "\t9 & Illinois & 7695 \\\\\n",
       "\t10 & Indiana & 3038 \\\\\n",
       "\t11 & Mississippi & 1177 \\\\\n",
       "\t12 & Nebraska & 246 \\\\\n",
       "\t13 & Pennsylvania & 7268 \\\\\n",
       "\t14 & Washington & 6389 \\\\\n",
       "\t15 & Wisconsin & 1748 \\\\\n",
       "\t16 & Vermont & 338 \\\\\n",
       "\t17 & Florida & 9008 \\\\\n",
       "\t18 & North Carolina & 1977 \\\\\n",
       "\t19 & California & 10773 \\\\\n",
       "\t20 & New York & 92506 \\\\\n",
       "\t21 & Wyoming & 150 \\\\\n",
       "\t22 & Michigan & 10791 \\\\\n",
       "\t23 & Maryland & 2331 \\\\\n",
       "\t24 & Kentucky & 770 \\\\\n",
       "\t25 & Ohio & 2901 \\\\\n",
       "\t26 & Alaska & 143 \\\\\n",
       "\t27 & Kansas & 553 \\\\\n",
       "\t28 & Tennessee & 2845 \\\\\n",
       "\t29 & Texas & 5069 \\\\\n",
       "\t30 & Maine & 376 \\\\\n",
       "\t$\\dots$ & $\\dots$ & $\\dots$ \\\\\n",
       "\\end{tabular}\n"
      ],
      "text/plain": [
       "136×2 DataFrame\n",
       "│ Row │ Province_State           │ Confirmed_sum │\n",
       "│     │ \u001b[90mUnion{Missing, String}\u001b[39m   │ \u001b[90mInt64\u001b[39m         │\n",
       "├─────┼──────────────────────────┼───────────────┤\n",
       "│ 1   │ South Carolina           │ 1554          │\n",
       "│ 2   │ Louisiana                │ 9159          │\n",
       "│ 3   │ Virginia                 │ 1706          │\n",
       "│ 4   │ Idaho                    │ 776           │\n",
       "│ 5   │ Iowa                     │ 614           │\n",
       "│ 6   │ Missouri                 │ 1857          │\n",
       "│ 7   │ Oklahoma                 │ 881           │\n",
       "│ 8   │ Colorado                 │ 3342          │\n",
       "│ 9   │ Illinois                 │ 7695          │\n",
       "│ 10  │ Indiana                  │ 3038          │\n",
       "⋮\n",
       "│ 126 │ Tianjin                  │ 176           │\n",
       "│ 127 │ Tibet                    │ 1             │\n",
       "│ 128 │ Turks and Caicos Islands │ 5             │\n",
       "│ 129 │ Victoria                 │ 1036          │\n",
       "│ 130 │ Virgin Islands           │ 30            │\n",
       "│ 131 │ Western Australia        │ 400           │\n",
       "│ 132 │ Xinjiang                 │ 76            │\n",
       "│ 133 │ Yukon                    │ 6             │\n",
       "│ 134 │ Yunnan                   │ 183           │\n",
       "│ 135 │ Zhejiang                 │ 1258          │\n",
       "│ 136 │ \u001b[90mmissing\u001b[39m                  │ 669315        │"
      ]
     },
     "execution_count": 6,
     "metadata": {},
     "output_type": "execute_result"
    }
   ],
   "source": [
    "by(df, :Province_State, :Confirmed => sum)"
   ]
  },
  {
   "cell_type": "code",
   "execution_count": 9,
   "metadata": {
    "colab": {},
    "colab_type": "code",
    "id": "habhL6illD3B"
   },
   "outputs": [],
   "source": [
    "# 顯示所有資料\n"
   ]
  },
  {
   "cell_type": "markdown",
   "metadata": {
    "colab_type": "text",
    "id": "2ye5nBbjlD3G"
   },
   "source": [
    "## 作業2：請列出美國各區域或事件 (依 Province_State 欄) 的累積確診、死亡、康復人數。\n",
    "\n",
    "【提示】使用 Split-Apply-Combine Strategy 時，有幾種不同的函式可以使用，請參照 `DataFrames.jl` 官方文件 [https://juliadata.github.io/DataFrames.jl/stable/lib/functions/#DataFrames.groupby](https://juliadata.github.io/DataFrames.jl/stable/lib/functions/#DataFrames.groupby)"
   ]
  },
  {
   "cell_type": "code",
   "execution_count": 12,
   "metadata": {
    "colab": {},
    "colab_type": "code",
    "id": "wDmhNGHWlD3H"
   },
   "outputs": [
    {
     "data": {
      "text/html": [
       "<table class=\"data-frame\"><thead><tr><th></th><th>Province_State</th><th>Confirmed</th><th>Deaths</th><th>Recovered</th></tr><tr><th></th><th>String⍰</th><th>Int64</th><th>Int64</th><th>Int64</th></tr></thead><tbody><p>2,312 rows × 4 columns</p><tr><th>1</th><td>South Carolina</td><td>6</td><td>0</td><td>0</td></tr><tr><th>2</th><td>Louisiana</td><td>61</td><td>1</td><td>0</td></tr><tr><th>3</th><td>Virginia</td><td>10</td><td>0</td><td>0</td></tr><tr><th>4</th><td>Idaho</td><td>312</td><td>3</td><td>0</td></tr><tr><th>5</th><td>Iowa</td><td>1</td><td>0</td><td>0</td></tr><tr><th>6</th><td>Missouri</td><td>6</td><td>0</td><td>0</td></tr><tr><th>7</th><td>Oklahoma</td><td>9</td><td>0</td><td>0</td></tr><tr><th>8</th><td>Colorado</td><td>212</td><td>2</td><td>0</td></tr><tr><th>9</th><td>Idaho</td><td>1</td><td>0</td><td>0</td></tr><tr><th>10</th><td>Illinois</td><td>2</td><td>0</td><td>0</td></tr><tr><th>11</th><td>Indiana</td><td>1</td><td>0</td><td>0</td></tr><tr><th>12</th><td>Mississippi</td><td>14</td><td>0</td><td>0</td></tr><tr><th>13</th><td>Nebraska</td><td>6</td><td>0</td><td>0</td></tr><tr><th>14</th><td>Pennsylvania</td><td>18</td><td>0</td><td>0</td></tr><tr><th>15</th><td>Washington</td><td>20</td><td>0</td><td>0</td></tr><tr><th>16</th><td>Wisconsin</td><td>1</td><td>0</td><td>0</td></tr><tr><th>17</th><td>Vermont</td><td>26</td><td>0</td><td>0</td></tr><tr><th>18</th><td>South Carolina</td><td>22</td><td>1</td><td>0</td></tr><tr><th>19</th><td>Florida</td><td>95</td><td>0</td><td>0</td></tr><tr><th>20</th><td>North Carolina</td><td>13</td><td>0</td><td>0</td></tr><tr><th>21</th><td>California</td><td>359</td><td>8</td><td>0</td></tr><tr><th>22</th><td>Colorado</td><td>4</td><td>0</td><td>0</td></tr><tr><th>23</th><td>New York</td><td>253</td><td>2</td><td>0</td></tr><tr><th>24</th><td>Wyoming</td><td>3</td><td>0</td><td>0</td></tr><tr><th>25</th><td>Virginia</td><td>23</td><td>0</td><td>0</td></tr><tr><th>26</th><td>Mississippi</td><td>3</td><td>0</td><td>0</td></tr><tr><th>27</th><td>North Carolina</td><td>2</td><td>0</td><td>0</td></tr><tr><th>28</th><td>Virginia</td><td>33</td><td>0</td><td>0</td></tr><tr><th>29</th><td>Iowa</td><td>15</td><td>1</td><td>0</td></tr><tr><th>30</th><td>Michigan</td><td>5</td><td>0</td><td>0</td></tr><tr><th>&vellip;</th><td>&vellip;</td><td>&vellip;</td><td>&vellip;</td><td>&vellip;</td></tr></tbody></table>"
      ],
      "text/latex": [
       "\\begin{tabular}{r|cccc}\n",
       "\t& Province\\_State & Confirmed & Deaths & Recovered\\\\\n",
       "\t\\hline\n",
       "\t& String⍰ & Int64 & Int64 & Int64\\\\\n",
       "\t\\hline\n",
       "\t1 & South Carolina & 6 & 0 & 0 \\\\\n",
       "\t2 & Louisiana & 61 & 1 & 0 \\\\\n",
       "\t3 & Virginia & 10 & 0 & 0 \\\\\n",
       "\t4 & Idaho & 312 & 3 & 0 \\\\\n",
       "\t5 & Iowa & 1 & 0 & 0 \\\\\n",
       "\t6 & Missouri & 6 & 0 & 0 \\\\\n",
       "\t7 & Oklahoma & 9 & 0 & 0 \\\\\n",
       "\t8 & Colorado & 212 & 2 & 0 \\\\\n",
       "\t9 & Idaho & 1 & 0 & 0 \\\\\n",
       "\t10 & Illinois & 2 & 0 & 0 \\\\\n",
       "\t11 & Indiana & 1 & 0 & 0 \\\\\n",
       "\t12 & Mississippi & 14 & 0 & 0 \\\\\n",
       "\t13 & Nebraska & 6 & 0 & 0 \\\\\n",
       "\t14 & Pennsylvania & 18 & 0 & 0 \\\\\n",
       "\t15 & Washington & 20 & 0 & 0 \\\\\n",
       "\t16 & Wisconsin & 1 & 0 & 0 \\\\\n",
       "\t17 & Vermont & 26 & 0 & 0 \\\\\n",
       "\t18 & South Carolina & 22 & 1 & 0 \\\\\n",
       "\t19 & Florida & 95 & 0 & 0 \\\\\n",
       "\t20 & North Carolina & 13 & 0 & 0 \\\\\n",
       "\t21 & California & 359 & 8 & 0 \\\\\n",
       "\t22 & Colorado & 4 & 0 & 0 \\\\\n",
       "\t23 & New York & 253 & 2 & 0 \\\\\n",
       "\t24 & Wyoming & 3 & 0 & 0 \\\\\n",
       "\t25 & Virginia & 23 & 0 & 0 \\\\\n",
       "\t26 & Mississippi & 3 & 0 & 0 \\\\\n",
       "\t27 & North Carolina & 2 & 0 & 0 \\\\\n",
       "\t28 & Virginia & 33 & 0 & 0 \\\\\n",
       "\t29 & Iowa & 15 & 1 & 0 \\\\\n",
       "\t30 & Michigan & 5 & 0 & 0 \\\\\n",
       "\t$\\dots$ & $\\dots$ & $\\dots$ & $\\dots$ & $\\dots$ \\\\\n",
       "\\end{tabular}\n"
      ],
      "text/plain": [
       "2312×4 DataFrame\n",
       "│ Row  │ Province_State           │ Confirmed │ Deaths │ Recovered │\n",
       "│      │ \u001b[90mUnion{Missing, String}\u001b[39m   │ \u001b[90mInt64\u001b[39m     │ \u001b[90mInt64\u001b[39m  │ \u001b[90mInt64\u001b[39m     │\n",
       "├──────┼──────────────────────────┼───────────┼────────┼───────────┤\n",
       "│ 1    │ South Carolina           │ 6         │ 0      │ 0         │\n",
       "│ 2    │ Louisiana                │ 61        │ 1      │ 0         │\n",
       "│ 3    │ Virginia                 │ 10        │ 0      │ 0         │\n",
       "│ 4    │ Idaho                    │ 312       │ 3      │ 0         │\n",
       "│ 5    │ Iowa                     │ 1         │ 0      │ 0         │\n",
       "│ 6    │ Missouri                 │ 6         │ 0      │ 0         │\n",
       "│ 7    │ Oklahoma                 │ 9         │ 0      │ 0         │\n",
       "│ 8    │ Colorado                 │ 212       │ 2      │ 0         │\n",
       "│ 9    │ Idaho                    │ 1         │ 0      │ 0         │\n",
       "│ 10   │ Illinois                 │ 2         │ 0      │ 0         │\n",
       "⋮\n",
       "│ 2302 │ California               │ 8         │ 0      │ 0         │\n",
       "│ 2303 │ Arizona                  │ 13        │ 0      │ 0         │\n",
       "│ 2304 │ Colorado                 │ 2         │ 0      │ 0         │\n",
       "│ 2305 │ Diamond Princess         │ 49        │ 0      │ 0         │\n",
       "│ 2306 │ Grand Princess           │ 103       │ 3      │ 0         │\n",
       "│ 2307 │ Guam                     │ 82        │ 3      │ 0         │\n",
       "│ 2308 │ Northern Mariana Islands │ 6         │ 1      │ 0         │\n",
       "│ 2309 │ Puerto Rico              │ 316       │ 12     │ 0         │\n",
       "│ 2310 │ Recovered                │ 0         │ 0      │ 9001      │\n",
       "│ 2311 │ Virgin Islands           │ 30        │ 0      │ 0         │\n",
       "│ 2312 │ Wyoming                  │ 0         │ 0      │ 0         │"
      ]
     },
     "execution_count": 12,
     "metadata": {},
     "output_type": "execute_result"
    }
   ],
   "source": [
    "df_US = df[(df.Country_Region .== \"US\"),[:Province_State, :Confirmed, :Deaths, :Recovered]]"
   ]
  },
  {
   "cell_type": "code",
   "execution_count": 19,
   "metadata": {
    "colab": {},
    "colab_type": "code",
    "id": "DNcWry3zlD3N"
   },
   "outputs": [
    {
     "data": {
      "text/html": [
       "<table class=\"data-frame\"><thead><tr><th></th><th>Province_State</th><th>Confirmed_mean</th><th>Deaths_mean</th><th>Recovered_mean</th></tr><tr><th></th><th>String⍰</th><th>Float64</th><th>Float64</th><th>Float64</th></tr></thead><tbody><p>58 rows × 4 columns</p><tr><th>1</th><td>South Carolina</td><td>33.7826</td><td>0.673913</td><td>0.0</td></tr><tr><th>2</th><td>Louisiana</td><td>150.148</td><td>5.08197</td><td>0.0</td></tr><tr><th>3</th><td>Virginia</td><td>16.5631</td><td>0.398058</td><td>0.0</td></tr><tr><th>4</th><td>Idaho</td><td>25.8667</td><td>0.3</td><td>0.0</td></tr><tr><th>5</th><td>Iowa</td><td>9.59375</td><td>0.171875</td><td>0.0</td></tr><tr><th>6</th><td>Missouri</td><td>25.0946</td><td>0.297297</td><td>0.0</td></tr><tr><th>7</th><td>Oklahoma</td><td>16.3148</td><td>0.62963</td><td>0.0</td></tr><tr><th>8</th><td>Colorado</td><td>64.2692</td><td>1.53846</td><td>0.0</td></tr><tr><th>9</th><td>Illinois</td><td>124.113</td><td>2.62903</td><td>0.0</td></tr><tr><th>10</th><td>Indiana</td><td>36.1667</td><td>0.928571</td><td>0.0</td></tr><tr><th>11</th><td>Mississippi</td><td>15.0897</td><td>0.333333</td><td>0.0</td></tr><tr><th>12</th><td>Nebraska</td><td>9.11111</td><td>0.185185</td><td>0.0</td></tr><tr><th>13</th><td>Pennsylvania</td><td>117.226</td><td>1.45161</td><td>0.0</td></tr><tr><th>14</th><td>Washington</td><td>182.543</td><td>7.74286</td><td>0.0</td></tr><tr><th>15</th><td>Wisconsin</td><td>32.9811</td><td>0.716981</td><td>0.0</td></tr><tr><th>16</th><td>Vermont</td><td>26.0</td><td>1.30769</td><td>0.0</td></tr><tr><th>17</th><td>Florida</td><td>150.133</td><td>2.73333</td><td>0.0</td></tr><tr><th>18</th><td>North Carolina</td><td>22.7241</td><td>0.241379</td><td>0.0</td></tr><tr><th>19</th><td>California</td><td>211.235</td><td>4.66667</td><td>0.0</td></tr><tr><th>20</th><td>New York</td><td>1567.9</td><td>40.2203</td><td>0.0</td></tr><tr><th>21</th><td>Wyoming</td><td>8.82353</td><td>0.0</td><td>0.0</td></tr><tr><th>22</th><td>Michigan</td><td>151.986</td><td>5.87324</td><td>0.0</td></tr><tr><th>23</th><td>Maryland</td><td>93.24</td><td>1.44</td><td>0.0</td></tr><tr><th>24</th><td>Kentucky</td><td>11.3235</td><td>0.455882</td><td>0.0</td></tr><tr><th>25</th><td>Ohio</td><td>39.2027</td><td>1.09459</td><td>0.0</td></tr><tr><th>26</th><td>Alaska</td><td>20.4286</td><td>0.428571</td><td>0.0</td></tr><tr><th>27</th><td>Kansas</td><td>12.2889</td><td>0.266667</td><td>0.0</td></tr><tr><th>28</th><td>Tennessee</td><td>32.3295</td><td>0.409091</td><td>0.0</td></tr><tr><th>29</th><td>Texas</td><td>34.7192</td><td>0.527397</td><td>0.0</td></tr><tr><th>30</th><td>Maine</td><td>26.8571</td><td>0.5</td><td>0.0</td></tr><tr><th>&vellip;</th><td>&vellip;</td><td>&vellip;</td><td>&vellip;</td><td>&vellip;</td></tr></tbody></table>"
      ],
      "text/latex": [
       "\\begin{tabular}{r|cccc}\n",
       "\t& Province\\_State & Confirmed\\_mean & Deaths\\_mean & Recovered\\_mean\\\\\n",
       "\t\\hline\n",
       "\t& String⍰ & Float64 & Float64 & Float64\\\\\n",
       "\t\\hline\n",
       "\t1 & South Carolina & 33.7826 & 0.673913 & 0.0 \\\\\n",
       "\t2 & Louisiana & 150.148 & 5.08197 & 0.0 \\\\\n",
       "\t3 & Virginia & 16.5631 & 0.398058 & 0.0 \\\\\n",
       "\t4 & Idaho & 25.8667 & 0.3 & 0.0 \\\\\n",
       "\t5 & Iowa & 9.59375 & 0.171875 & 0.0 \\\\\n",
       "\t6 & Missouri & 25.0946 & 0.297297 & 0.0 \\\\\n",
       "\t7 & Oklahoma & 16.3148 & 0.62963 & 0.0 \\\\\n",
       "\t8 & Colorado & 64.2692 & 1.53846 & 0.0 \\\\\n",
       "\t9 & Illinois & 124.113 & 2.62903 & 0.0 \\\\\n",
       "\t10 & Indiana & 36.1667 & 0.928571 & 0.0 \\\\\n",
       "\t11 & Mississippi & 15.0897 & 0.333333 & 0.0 \\\\\n",
       "\t12 & Nebraska & 9.11111 & 0.185185 & 0.0 \\\\\n",
       "\t13 & Pennsylvania & 117.226 & 1.45161 & 0.0 \\\\\n",
       "\t14 & Washington & 182.543 & 7.74286 & 0.0 \\\\\n",
       "\t15 & Wisconsin & 32.9811 & 0.716981 & 0.0 \\\\\n",
       "\t16 & Vermont & 26.0 & 1.30769 & 0.0 \\\\\n",
       "\t17 & Florida & 150.133 & 2.73333 & 0.0 \\\\\n",
       "\t18 & North Carolina & 22.7241 & 0.241379 & 0.0 \\\\\n",
       "\t19 & California & 211.235 & 4.66667 & 0.0 \\\\\n",
       "\t20 & New York & 1567.9 & 40.2203 & 0.0 \\\\\n",
       "\t21 & Wyoming & 8.82353 & 0.0 & 0.0 \\\\\n",
       "\t22 & Michigan & 151.986 & 5.87324 & 0.0 \\\\\n",
       "\t23 & Maryland & 93.24 & 1.44 & 0.0 \\\\\n",
       "\t24 & Kentucky & 11.3235 & 0.455882 & 0.0 \\\\\n",
       "\t25 & Ohio & 39.2027 & 1.09459 & 0.0 \\\\\n",
       "\t26 & Alaska & 20.4286 & 0.428571 & 0.0 \\\\\n",
       "\t27 & Kansas & 12.2889 & 0.266667 & 0.0 \\\\\n",
       "\t28 & Tennessee & 32.3295 & 0.409091 & 0.0 \\\\\n",
       "\t29 & Texas & 34.7192 & 0.527397 & 0.0 \\\\\n",
       "\t30 & Maine & 26.8571 & 0.5 & 0.0 \\\\\n",
       "\t$\\dots$ & $\\dots$ & $\\dots$ & $\\dots$ & $\\dots$ \\\\\n",
       "\\end{tabular}\n"
      ],
      "text/plain": [
       "58×4 DataFrame. Omitted printing of 1 columns\n",
       "│ Row │ Province_State           │ Confirmed_mean │ Deaths_mean │\n",
       "│     │ \u001b[90mUnion{Missing, String}\u001b[39m   │ \u001b[90mFloat64\u001b[39m        │ \u001b[90mFloat64\u001b[39m     │\n",
       "├─────┼──────────────────────────┼────────────────┼─────────────┤\n",
       "│ 1   │ South Carolina           │ 33.7826        │ 0.673913    │\n",
       "│ 2   │ Louisiana                │ 150.148        │ 5.08197     │\n",
       "│ 3   │ Virginia                 │ 16.5631        │ 0.398058    │\n",
       "│ 4   │ Idaho                    │ 25.8667        │ 0.3         │\n",
       "│ 5   │ Iowa                     │ 9.59375        │ 0.171875    │\n",
       "│ 6   │ Missouri                 │ 25.0946        │ 0.297297    │\n",
       "│ 7   │ Oklahoma                 │ 16.3148        │ 0.62963     │\n",
       "│ 8   │ Colorado                 │ 64.2692        │ 1.53846     │\n",
       "│ 9   │ Illinois                 │ 124.113        │ 2.62903     │\n",
       "│ 10  │ Indiana                  │ 36.1667        │ 0.928571    │\n",
       "⋮\n",
       "│ 48  │ District of Columbia     │ 653.0          │ 12.0        │\n",
       "│ 49  │ Connecticut              │ 424.889        │ 12.4444     │\n",
       "│ 50  │ Hawaii                   │ 51.2           │ 0.2         │\n",
       "│ 51  │ Delaware                 │ 98.25          │ 3.0         │\n",
       "│ 52  │ Diamond Princess         │ 49.0           │ 0.0         │\n",
       "│ 53  │ Grand Princess           │ 103.0          │ 3.0         │\n",
       "│ 54  │ Guam                     │ 82.0           │ 3.0         │\n",
       "│ 55  │ Northern Mariana Islands │ 6.0            │ 1.0         │\n",
       "│ 56  │ Puerto Rico              │ 316.0          │ 12.0        │\n",
       "│ 57  │ Recovered                │ 0.0            │ 0.0         │\n",
       "│ 58  │ Virgin Islands           │ 30.0           │ 0.0         │"
      ]
     },
     "execution_count": 19,
     "metadata": {},
     "output_type": "execute_result"
    }
   ],
   "source": [
    "by(df_US, :Province_State, Confirmed_mean = :Confirmed => mean, Deaths_mean = :Deaths => mean, Recovered_mean = :Recovered => mean)"
   ]
  }
 ],
 "metadata": {
  "colab": {
   "name": "julia_018_hw.ipynb",
   "provenance": []
  },
  "kernelspec": {
   "display_name": "Julia 1.4.1",
   "language": "julia",
   "name": "julia-1.4"
  },
  "language_info": {
   "file_extension": ".jl",
   "mimetype": "application/julia",
   "name": "julia",
   "version": "1.4.1"
  }
 },
 "nbformat": 4,
 "nbformat_minor": 1
}
