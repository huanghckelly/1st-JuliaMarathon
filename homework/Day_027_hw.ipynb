{
 "cells": [
  {
   "cell_type": "markdown",
   "metadata": {},
   "source": [
    "# Julia 機器學習：GLM 線性迴歸\n",
    "\n",
    "## 作業 027：波士頓房價預測資料集\n",
    "\n",
    "請使用 GLM 中的模型，建立一個預測模型來預測波士頓的房價。"
   ]
  },
  {
   "cell_type": "code",
   "execution_count": 7,
   "metadata": {},
   "outputs": [],
   "source": [
    "using GLM, RDatasets, MLDataUtils"
   ]
  },
  {
   "cell_type": "markdown",
   "metadata": {},
   "source": [
    "## 讀取資料"
   ]
  },
  {
   "cell_type": "code",
   "execution_count": 8,
   "metadata": {},
   "outputs": [
    {
     "data": {
      "text/html": [
       "<table class=\"data-frame\"><thead><tr><th></th><th>Crim</th><th>Zn</th><th>Indus</th><th>Chas</th><th>NOx</th><th>Rm</th><th>Age</th><th>Dis</th><th>Rad</th><th>Tax</th></tr><tr><th></th><th>Float64</th><th>Float64</th><th>Float64</th><th>Int64</th><th>Float64</th><th>Float64</th><th>Float64</th><th>Float64</th><th>Int64</th><th>Int64</th></tr></thead><tbody><p>10 rows × 14 columns (omitted printing of 4 columns)</p><tr><th>1</th><td>0.00632</td><td>18.0</td><td>2.31</td><td>0</td><td>0.538</td><td>6.575</td><td>65.2</td><td>4.09</td><td>1</td><td>296</td></tr><tr><th>2</th><td>0.02731</td><td>0.0</td><td>7.07</td><td>0</td><td>0.469</td><td>6.421</td><td>78.9</td><td>4.9671</td><td>2</td><td>242</td></tr><tr><th>3</th><td>0.02729</td><td>0.0</td><td>7.07</td><td>0</td><td>0.469</td><td>7.185</td><td>61.1</td><td>4.9671</td><td>2</td><td>242</td></tr><tr><th>4</th><td>0.03237</td><td>0.0</td><td>2.18</td><td>0</td><td>0.458</td><td>6.998</td><td>45.8</td><td>6.0622</td><td>3</td><td>222</td></tr><tr><th>5</th><td>0.06905</td><td>0.0</td><td>2.18</td><td>0</td><td>0.458</td><td>7.147</td><td>54.2</td><td>6.0622</td><td>3</td><td>222</td></tr><tr><th>6</th><td>0.02985</td><td>0.0</td><td>2.18</td><td>0</td><td>0.458</td><td>6.43</td><td>58.7</td><td>6.0622</td><td>3</td><td>222</td></tr><tr><th>7</th><td>0.08829</td><td>12.5</td><td>7.87</td><td>0</td><td>0.524</td><td>6.012</td><td>66.6</td><td>5.5605</td><td>5</td><td>311</td></tr><tr><th>8</th><td>0.14455</td><td>12.5</td><td>7.87</td><td>0</td><td>0.524</td><td>6.172</td><td>96.1</td><td>5.9505</td><td>5</td><td>311</td></tr><tr><th>9</th><td>0.21124</td><td>12.5</td><td>7.87</td><td>0</td><td>0.524</td><td>5.631</td><td>100.0</td><td>6.0821</td><td>5</td><td>311</td></tr><tr><th>10</th><td>0.17004</td><td>12.5</td><td>7.87</td><td>0</td><td>0.524</td><td>6.004</td><td>85.9</td><td>6.5921</td><td>5</td><td>311</td></tr></tbody></table>"
      ],
      "text/latex": [
       "\\begin{tabular}{r|ccccccccccc}\n",
       "\t& Crim & Zn & Indus & Chas & NOx & Rm & Age & Dis & Rad & Tax & \\\\\n",
       "\t\\hline\n",
       "\t& Float64 & Float64 & Float64 & Int64 & Float64 & Float64 & Float64 & Float64 & Int64 & Int64 & \\\\\n",
       "\t\\hline\n",
       "\t1 & 0.00632 & 18.0 & 2.31 & 0 & 0.538 & 6.575 & 65.2 & 4.09 & 1 & 296 & $\\dots$ \\\\\n",
       "\t2 & 0.02731 & 0.0 & 7.07 & 0 & 0.469 & 6.421 & 78.9 & 4.9671 & 2 & 242 & $\\dots$ \\\\\n",
       "\t3 & 0.02729 & 0.0 & 7.07 & 0 & 0.469 & 7.185 & 61.1 & 4.9671 & 2 & 242 & $\\dots$ \\\\\n",
       "\t4 & 0.03237 & 0.0 & 2.18 & 0 & 0.458 & 6.998 & 45.8 & 6.0622 & 3 & 222 & $\\dots$ \\\\\n",
       "\t5 & 0.06905 & 0.0 & 2.18 & 0 & 0.458 & 7.147 & 54.2 & 6.0622 & 3 & 222 & $\\dots$ \\\\\n",
       "\t6 & 0.02985 & 0.0 & 2.18 & 0 & 0.458 & 6.43 & 58.7 & 6.0622 & 3 & 222 & $\\dots$ \\\\\n",
       "\t7 & 0.08829 & 12.5 & 7.87 & 0 & 0.524 & 6.012 & 66.6 & 5.5605 & 5 & 311 & $\\dots$ \\\\\n",
       "\t8 & 0.14455 & 12.5 & 7.87 & 0 & 0.524 & 6.172 & 96.1 & 5.9505 & 5 & 311 & $\\dots$ \\\\\n",
       "\t9 & 0.21124 & 12.5 & 7.87 & 0 & 0.524 & 5.631 & 100.0 & 6.0821 & 5 & 311 & $\\dots$ \\\\\n",
       "\t10 & 0.17004 & 12.5 & 7.87 & 0 & 0.524 & 6.004 & 85.9 & 6.5921 & 5 & 311 & $\\dots$ \\\\\n",
       "\\end{tabular}\n"
      ],
      "text/plain": [
       "10×14 DataFrame. Omitted printing of 7 columns\n",
       "│ Row │ Crim    │ Zn      │ Indus   │ Chas  │ NOx     │ Rm      │ Age     │\n",
       "│     │ \u001b[90mFloat64\u001b[39m │ \u001b[90mFloat64\u001b[39m │ \u001b[90mFloat64\u001b[39m │ \u001b[90mInt64\u001b[39m │ \u001b[90mFloat64\u001b[39m │ \u001b[90mFloat64\u001b[39m │ \u001b[90mFloat64\u001b[39m │\n",
       "├─────┼─────────┼─────────┼─────────┼───────┼─────────┼─────────┼─────────┤\n",
       "│ 1   │ 0.00632 │ 18.0    │ 2.31    │ 0     │ 0.538   │ 6.575   │ 65.2    │\n",
       "│ 2   │ 0.02731 │ 0.0     │ 7.07    │ 0     │ 0.469   │ 6.421   │ 78.9    │\n",
       "│ 3   │ 0.02729 │ 0.0     │ 7.07    │ 0     │ 0.469   │ 7.185   │ 61.1    │\n",
       "│ 4   │ 0.03237 │ 0.0     │ 2.18    │ 0     │ 0.458   │ 6.998   │ 45.8    │\n",
       "│ 5   │ 0.06905 │ 0.0     │ 2.18    │ 0     │ 0.458   │ 7.147   │ 54.2    │\n",
       "│ 6   │ 0.02985 │ 0.0     │ 2.18    │ 0     │ 0.458   │ 6.43    │ 58.7    │\n",
       "│ 7   │ 0.08829 │ 12.5    │ 7.87    │ 0     │ 0.524   │ 6.012   │ 66.6    │\n",
       "│ 8   │ 0.14455 │ 12.5    │ 7.87    │ 0     │ 0.524   │ 6.172   │ 96.1    │\n",
       "│ 9   │ 0.21124 │ 12.5    │ 7.87    │ 0     │ 0.524   │ 5.631   │ 100.0   │\n",
       "│ 10  │ 0.17004 │ 12.5    │ 7.87    │ 0     │ 0.524   │ 6.004   │ 85.9    │"
      ]
     },
     "execution_count": 8,
     "metadata": {},
     "output_type": "execute_result"
    }
   ],
   "source": [
    "boston = dataset(\"MASS\", \"Boston\")\n",
    "first(boston, 10)"
   ]
  },
  {
   "cell_type": "code",
   "execution_count": 10,
   "metadata": {
    "collapsed": true
   },
   "outputs": [
    {
     "data": {
      "text/html": [
       "<table class=\"data-frame\"><thead><tr><th></th><th>Crim</th><th>Zn</th><th>Indus</th><th>Chas</th><th>NOx</th><th>Rm</th><th>Age</th><th>Dis</th><th>Rad</th><th>Tax</th></tr><tr><th></th><th>Float64</th><th>Float64</th><th>Float64</th><th>Int64</th><th>Float64</th><th>Float64</th><th>Float64</th><th>Float64</th><th>Int64</th><th>Int64</th></tr></thead><tbody><p>101 rows × 14 columns (omitted printing of 4 columns)</p><tr><th>1</th><td>0.03705</td><td>20.0</td><td>3.33</td><td>0</td><td>0.4429</td><td>6.968</td><td>37.2</td><td>5.2447</td><td>5</td><td>216</td></tr><tr><th>2</th><td>0.02543</td><td>55.0</td><td>3.78</td><td>0</td><td>0.484</td><td>6.696</td><td>56.4</td><td>5.7321</td><td>5</td><td>370</td></tr><tr><th>3</th><td>0.1</td><td>34.0</td><td>6.09</td><td>0</td><td>0.433</td><td>6.982</td><td>17.7</td><td>5.4917</td><td>7</td><td>329</td></tr><tr><th>4</th><td>0.05083</td><td>0.0</td><td>5.19</td><td>0</td><td>0.515</td><td>6.316</td><td>38.1</td><td>6.4584</td><td>5</td><td>224</td></tr><tr><th>5</th><td>2.924</td><td>0.0</td><td>19.58</td><td>0</td><td>0.605</td><td>6.101</td><td>93.0</td><td>2.2834</td><td>5</td><td>403</td></tr><tr><th>6</th><td>8.64476</td><td>0.0</td><td>18.1</td><td>0</td><td>0.693</td><td>6.193</td><td>92.6</td><td>1.7912</td><td>24</td><td>666</td></tr><tr><th>7</th><td>0.62356</td><td>0.0</td><td>6.2</td><td>1</td><td>0.507</td><td>6.879</td><td>77.7</td><td>3.2721</td><td>8</td><td>307</td></tr><tr><th>8</th><td>0.20608</td><td>22.0</td><td>5.86</td><td>0</td><td>0.431</td><td>5.593</td><td>76.5</td><td>7.9549</td><td>7</td><td>330</td></tr><tr><th>9</th><td>0.19539</td><td>0.0</td><td>10.81</td><td>0</td><td>0.413</td><td>6.245</td><td>6.2</td><td>5.2873</td><td>4</td><td>305</td></tr><tr><th>10</th><td>0.07896</td><td>0.0</td><td>12.83</td><td>0</td><td>0.437</td><td>6.273</td><td>6.0</td><td>4.2515</td><td>5</td><td>398</td></tr><tr><th>11</th><td>0.19133</td><td>22.0</td><td>5.86</td><td>0</td><td>0.431</td><td>5.605</td><td>70.2</td><td>7.9549</td><td>7</td><td>330</td></tr><tr><th>12</th><td>1.80028</td><td>0.0</td><td>19.58</td><td>0</td><td>0.605</td><td>5.877</td><td>79.2</td><td>2.4259</td><td>5</td><td>403</td></tr><tr><th>13</th><td>5.87205</td><td>0.0</td><td>18.1</td><td>0</td><td>0.693</td><td>6.405</td><td>96.0</td><td>1.6768</td><td>24</td><td>666</td></tr><tr><th>14</th><td>5.69175</td><td>0.0</td><td>18.1</td><td>0</td><td>0.583</td><td>6.114</td><td>79.8</td><td>3.5459</td><td>24</td><td>666</td></tr><tr><th>15</th><td>9.39063</td><td>0.0</td><td>18.1</td><td>0</td><td>0.74</td><td>5.627</td><td>93.9</td><td>1.8172</td><td>24</td><td>666</td></tr><tr><th>16</th><td>0.15445</td><td>25.0</td><td>5.13</td><td>0</td><td>0.453</td><td>6.145</td><td>29.2</td><td>7.8148</td><td>8</td><td>284</td></tr><tr><th>17</th><td>0.52014</td><td>20.0</td><td>3.97</td><td>0</td><td>0.647</td><td>8.398</td><td>91.5</td><td>2.2885</td><td>5</td><td>264</td></tr><tr><th>18</th><td>0.06664</td><td>0.0</td><td>4.05</td><td>0</td><td>0.51</td><td>6.546</td><td>33.1</td><td>3.1323</td><td>5</td><td>296</td></tr><tr><th>19</th><td>3.69695</td><td>0.0</td><td>18.1</td><td>0</td><td>0.718</td><td>4.963</td><td>91.4</td><td>1.7523</td><td>24</td><td>666</td></tr><tr><th>20</th><td>0.0351</td><td>95.0</td><td>2.68</td><td>0</td><td>0.4161</td><td>7.853</td><td>33.2</td><td>5.118</td><td>4</td><td>224</td></tr><tr><th>21</th><td>0.01432</td><td>100.0</td><td>1.32</td><td>0</td><td>0.411</td><td>6.816</td><td>40.5</td><td>8.3248</td><td>5</td><td>256</td></tr><tr><th>22</th><td>12.0482</td><td>0.0</td><td>18.1</td><td>0</td><td>0.614</td><td>5.648</td><td>87.6</td><td>1.9512</td><td>24</td><td>666</td></tr><tr><th>23</th><td>0.05023</td><td>35.0</td><td>6.06</td><td>0</td><td>0.4379</td><td>5.706</td><td>28.4</td><td>6.6407</td><td>1</td><td>304</td></tr><tr><th>24</th><td>11.8123</td><td>0.0</td><td>18.1</td><td>0</td><td>0.718</td><td>6.824</td><td>76.5</td><td>1.794</td><td>24</td><td>666</td></tr><tr><th>25</th><td>0.66351</td><td>20.0</td><td>3.97</td><td>0</td><td>0.647</td><td>7.333</td><td>100.0</td><td>1.8946</td><td>5</td><td>264</td></tr><tr><th>26</th><td>0.62739</td><td>0.0</td><td>8.14</td><td>0</td><td>0.538</td><td>5.834</td><td>56.5</td><td>4.4986</td><td>4</td><td>307</td></tr><tr><th>27</th><td>0.10153</td><td>0.0</td><td>12.83</td><td>0</td><td>0.437</td><td>6.279</td><td>74.5</td><td>4.0522</td><td>5</td><td>398</td></tr><tr><th>28</th><td>4.89822</td><td>0.0</td><td>18.1</td><td>0</td><td>0.631</td><td>4.97</td><td>100.0</td><td>1.3325</td><td>24</td><td>666</td></tr><tr><th>29</th><td>0.0795</td><td>60.0</td><td>1.69</td><td>0</td><td>0.411</td><td>6.579</td><td>35.9</td><td>10.7103</td><td>4</td><td>411</td></tr><tr><th>30</th><td>2.3004</td><td>0.0</td><td>19.58</td><td>0</td><td>0.605</td><td>6.319</td><td>96.1</td><td>2.1</td><td>5</td><td>403</td></tr><tr><th>&vellip;</th><td>&vellip;</td><td>&vellip;</td><td>&vellip;</td><td>&vellip;</td><td>&vellip;</td><td>&vellip;</td><td>&vellip;</td><td>&vellip;</td><td>&vellip;</td><td>&vellip;</td></tr></tbody></table>"
      ],
      "text/latex": [
       "\\begin{tabular}{r|ccccccccccc}\n",
       "\t& Crim & Zn & Indus & Chas & NOx & Rm & Age & Dis & Rad & Tax & \\\\\n",
       "\t\\hline\n",
       "\t& Float64 & Float64 & Float64 & Int64 & Float64 & Float64 & Float64 & Float64 & Int64 & Int64 & \\\\\n",
       "\t\\hline\n",
       "\t1 & 0.03705 & 20.0 & 3.33 & 0 & 0.4429 & 6.968 & 37.2 & 5.2447 & 5 & 216 & $\\dots$ \\\\\n",
       "\t2 & 0.02543 & 55.0 & 3.78 & 0 & 0.484 & 6.696 & 56.4 & 5.7321 & 5 & 370 & $\\dots$ \\\\\n",
       "\t3 & 0.1 & 34.0 & 6.09 & 0 & 0.433 & 6.982 & 17.7 & 5.4917 & 7 & 329 & $\\dots$ \\\\\n",
       "\t4 & 0.05083 & 0.0 & 5.19 & 0 & 0.515 & 6.316 & 38.1 & 6.4584 & 5 & 224 & $\\dots$ \\\\\n",
       "\t5 & 2.924 & 0.0 & 19.58 & 0 & 0.605 & 6.101 & 93.0 & 2.2834 & 5 & 403 & $\\dots$ \\\\\n",
       "\t6 & 8.64476 & 0.0 & 18.1 & 0 & 0.693 & 6.193 & 92.6 & 1.7912 & 24 & 666 & $\\dots$ \\\\\n",
       "\t7 & 0.62356 & 0.0 & 6.2 & 1 & 0.507 & 6.879 & 77.7 & 3.2721 & 8 & 307 & $\\dots$ \\\\\n",
       "\t8 & 0.20608 & 22.0 & 5.86 & 0 & 0.431 & 5.593 & 76.5 & 7.9549 & 7 & 330 & $\\dots$ \\\\\n",
       "\t9 & 0.19539 & 0.0 & 10.81 & 0 & 0.413 & 6.245 & 6.2 & 5.2873 & 4 & 305 & $\\dots$ \\\\\n",
       "\t10 & 0.07896 & 0.0 & 12.83 & 0 & 0.437 & 6.273 & 6.0 & 4.2515 & 5 & 398 & $\\dots$ \\\\\n",
       "\t11 & 0.19133 & 22.0 & 5.86 & 0 & 0.431 & 5.605 & 70.2 & 7.9549 & 7 & 330 & $\\dots$ \\\\\n",
       "\t12 & 1.80028 & 0.0 & 19.58 & 0 & 0.605 & 5.877 & 79.2 & 2.4259 & 5 & 403 & $\\dots$ \\\\\n",
       "\t13 & 5.87205 & 0.0 & 18.1 & 0 & 0.693 & 6.405 & 96.0 & 1.6768 & 24 & 666 & $\\dots$ \\\\\n",
       "\t14 & 5.69175 & 0.0 & 18.1 & 0 & 0.583 & 6.114 & 79.8 & 3.5459 & 24 & 666 & $\\dots$ \\\\\n",
       "\t15 & 9.39063 & 0.0 & 18.1 & 0 & 0.74 & 5.627 & 93.9 & 1.8172 & 24 & 666 & $\\dots$ \\\\\n",
       "\t16 & 0.15445 & 25.0 & 5.13 & 0 & 0.453 & 6.145 & 29.2 & 7.8148 & 8 & 284 & $\\dots$ \\\\\n",
       "\t17 & 0.52014 & 20.0 & 3.97 & 0 & 0.647 & 8.398 & 91.5 & 2.2885 & 5 & 264 & $\\dots$ \\\\\n",
       "\t18 & 0.06664 & 0.0 & 4.05 & 0 & 0.51 & 6.546 & 33.1 & 3.1323 & 5 & 296 & $\\dots$ \\\\\n",
       "\t19 & 3.69695 & 0.0 & 18.1 & 0 & 0.718 & 4.963 & 91.4 & 1.7523 & 24 & 666 & $\\dots$ \\\\\n",
       "\t20 & 0.0351 & 95.0 & 2.68 & 0 & 0.4161 & 7.853 & 33.2 & 5.118 & 4 & 224 & $\\dots$ \\\\\n",
       "\t21 & 0.01432 & 100.0 & 1.32 & 0 & 0.411 & 6.816 & 40.5 & 8.3248 & 5 & 256 & $\\dots$ \\\\\n",
       "\t22 & 12.0482 & 0.0 & 18.1 & 0 & 0.614 & 5.648 & 87.6 & 1.9512 & 24 & 666 & $\\dots$ \\\\\n",
       "\t23 & 0.05023 & 35.0 & 6.06 & 0 & 0.4379 & 5.706 & 28.4 & 6.6407 & 1 & 304 & $\\dots$ \\\\\n",
       "\t24 & 11.8123 & 0.0 & 18.1 & 0 & 0.718 & 6.824 & 76.5 & 1.794 & 24 & 666 & $\\dots$ \\\\\n",
       "\t25 & 0.66351 & 20.0 & 3.97 & 0 & 0.647 & 7.333 & 100.0 & 1.8946 & 5 & 264 & $\\dots$ \\\\\n",
       "\t26 & 0.62739 & 0.0 & 8.14 & 0 & 0.538 & 5.834 & 56.5 & 4.4986 & 4 & 307 & $\\dots$ \\\\\n",
       "\t27 & 0.10153 & 0.0 & 12.83 & 0 & 0.437 & 6.279 & 74.5 & 4.0522 & 5 & 398 & $\\dots$ \\\\\n",
       "\t28 & 4.89822 & 0.0 & 18.1 & 0 & 0.631 & 4.97 & 100.0 & 1.3325 & 24 & 666 & $\\dots$ \\\\\n",
       "\t29 & 0.0795 & 60.0 & 1.69 & 0 & 0.411 & 6.579 & 35.9 & 10.7103 & 4 & 411 & $\\dots$ \\\\\n",
       "\t30 & 2.3004 & 0.0 & 19.58 & 0 & 0.605 & 6.319 & 96.1 & 2.1 & 5 & 403 & $\\dots$ \\\\\n",
       "\t$\\dots$ & $\\dots$ & $\\dots$ & $\\dots$ & $\\dots$ & $\\dots$ & $\\dots$ & $\\dots$ & $\\dots$ & $\\dots$ & $\\dots$ &  \\\\\n",
       "\\end{tabular}\n"
      ],
      "text/plain": [
       "101×14 DataFrame. Omitted printing of 7 columns\n",
       "│ Row │ Crim    │ Zn      │ Indus   │ Chas  │ NOx     │ Rm      │ Age     │\n",
       "│     │ \u001b[90mFloat64\u001b[39m │ \u001b[90mFloat64\u001b[39m │ \u001b[90mFloat64\u001b[39m │ \u001b[90mInt64\u001b[39m │ \u001b[90mFloat64\u001b[39m │ \u001b[90mFloat64\u001b[39m │ \u001b[90mFloat64\u001b[39m │\n",
       "├─────┼─────────┼─────────┼─────────┼───────┼─────────┼─────────┼─────────┤\n",
       "│ 1   │ 0.03705 │ 20.0    │ 3.33    │ 0     │ 0.4429  │ 6.968   │ 37.2    │\n",
       "│ 2   │ 0.02543 │ 55.0    │ 3.78    │ 0     │ 0.484   │ 6.696   │ 56.4    │\n",
       "│ 3   │ 0.1     │ 34.0    │ 6.09    │ 0     │ 0.433   │ 6.982   │ 17.7    │\n",
       "│ 4   │ 0.05083 │ 0.0     │ 5.19    │ 0     │ 0.515   │ 6.316   │ 38.1    │\n",
       "│ 5   │ 2.924   │ 0.0     │ 19.58   │ 0     │ 0.605   │ 6.101   │ 93.0    │\n",
       "│ 6   │ 8.64476 │ 0.0     │ 18.1    │ 0     │ 0.693   │ 6.193   │ 92.6    │\n",
       "│ 7   │ 0.62356 │ 0.0     │ 6.2     │ 1     │ 0.507   │ 6.879   │ 77.7    │\n",
       "│ 8   │ 0.20608 │ 22.0    │ 5.86    │ 0     │ 0.431   │ 5.593   │ 76.5    │\n",
       "│ 9   │ 0.19539 │ 0.0     │ 10.81   │ 0     │ 0.413   │ 6.245   │ 6.2     │\n",
       "│ 10  │ 0.07896 │ 0.0     │ 12.83   │ 0     │ 0.437   │ 6.273   │ 6.0     │\n",
       "⋮\n",
       "│ 91  │ 0.33045 │ 0.0     │ 6.2     │ 0     │ 0.507   │ 6.086   │ 61.5    │\n",
       "│ 92  │ 0.25199 │ 0.0     │ 10.59   │ 0     │ 0.489   │ 5.783   │ 72.7    │\n",
       "│ 93  │ 0.06129 │ 20.0    │ 3.33    │ 1     │ 0.4429  │ 7.645   │ 49.7    │\n",
       "│ 94  │ 2.44953 │ 0.0     │ 19.58   │ 0     │ 0.605   │ 6.402   │ 95.2    │\n",
       "│ 95  │ 2.36862 │ 0.0     │ 19.58   │ 0     │ 0.871   │ 4.926   │ 95.7    │\n",
       "│ 96  │ 0.75026 │ 0.0     │ 8.14    │ 0     │ 0.538   │ 5.924   │ 94.1    │\n",
       "│ 97  │ 0.06724 │ 0.0     │ 3.24    │ 0     │ 0.46    │ 6.333   │ 17.2    │\n",
       "│ 98  │ 5.29305 │ 0.0     │ 18.1    │ 0     │ 0.7     │ 6.051   │ 82.5    │\n",
       "│ 99  │ 0.10328 │ 25.0    │ 5.13    │ 0     │ 0.453   │ 5.927   │ 47.2    │\n",
       "│ 100 │ 7.67202 │ 0.0     │ 18.1    │ 0     │ 0.693   │ 5.747   │ 98.9    │\n",
       "│ 101 │ 0.10469 │ 40.0    │ 6.41    │ 1     │ 0.447   │ 7.267   │ 49.0    │"
      ]
     },
     "execution_count": 10,
     "metadata": {},
     "output_type": "execute_result"
    }
   ],
   "source": [
    "# 切分訓練資料及測試資料\n",
    "indecies = MLDataUtils.shuffleobs(collect(1:nrow(boston)))\n",
    "train_ind, test_ind = MLDataUtils.splitobs(indecies, at = 0.8);\n",
    "train = boston[train_ind, :]\n",
    "test = boston[test_ind, :]"
   ]
  },
  {
   "cell_type": "code",
   "execution_count": 12,
   "metadata": {},
   "outputs": [
    {
     "data": {
      "text/plain": [
       "StatsModels.TableRegressionModel{LinearModel{GLM.LmResp{Array{Float64,1}},GLM.DensePredChol{Float64,LinearAlgebra.Cholesky{Float64,Array{Float64,2}}}},Array{Float64,2}}\n",
       "\n",
       "Tax ~ 1 + Crim + Zn + Indus + Chas + NOx + Rm + Age + Dis + Rad\n",
       "\n",
       "Coefficients:\n",
       "─────────────────────────────────────────────────────────────────────────────────\n",
       "               Estimate  Std. Error    t value  Pr(>|t|)    Lower 95%   Upper 95%\n",
       "─────────────────────────────────────────────────────────────────────────────────\n",
       "(Intercept)  207.128      46.721      4.4333      <1e-4   115.275      298.981\n",
       "Crim          -0.136769    0.401007  -0.341063    0.7332   -0.925144     0.651606\n",
       "Zn             0.862077    0.171379   5.03025     <1e-6     0.525148     1.199\n",
       "Indus          7.58278     0.737489  10.2819      <1e-21    6.13289      9.03268\n",
       "Chas         -27.8187     12.9974    -2.14033     0.0329  -53.3714      -2.26601\n",
       "NOx           28.9862     48.8302     0.593611    0.5531  -67.0135     124.986\n",
       "Rm           -10.259       4.64923   -2.2066      0.0279  -19.3993      -1.11867\n",
       "Age            0.256513    0.172697   1.48534     0.1383   -0.0830066    0.596033\n",
       "Dis            1.50339     2.70557    0.555663    0.5788   -3.81574      6.82252\n",
       "Rad           14.165       0.499516  28.3574      <1e-96   13.1829      15.147\n",
       "─────────────────────────────────────────────────────────────────────────────────"
      ]
     },
     "execution_count": 12,
     "metadata": {},
     "output_type": "execute_result"
    }
   ],
   "source": [
    "model = GLM.lm(@formula(Tax ~ Crim + Zn + Indus + Chas + NOx + Rm + Age + Dis + Rad), train)"
   ]
  },
  {
   "cell_type": "code",
   "execution_count": 14,
   "metadata": {
    "collapsed": true
   },
   "outputs": [
    {
     "data": {
      "text/plain": [
       "101-element Array{Union{Missing, Float64},1}:\n",
       " 279.2204865030187\n",
       " 322.4465983418051\n",
       " 335.47810872171567\n",
       " 286.91534367389033\n",
       " 408.2589744720681\n",
       " 666.1529021442059\n",
       " 308.5318202799943\n",
       " 356.3525620225795\n",
       " 303.17423394046693\n",
       " 331.472250923178\n",
       " 354.6154373661571\n",
       " 407.3850311659534\n",
       " 665.0573702185167\n",
       "   ⋮\n",
       " 333.85841106818367\n",
       " 340.9414596234055\n",
       " 324.0972673890625\n",
       " 247.6102418589149\n",
       " 405.7688143170254\n",
       " 427.55548765485935\n",
       " 310.9816954015244\n",
       " 248.9620170394742\n",
       " 666.2463855961685\n",
       " 355.7399246802795\n",
       " 672.240259086072\n",
       " 277.2145303256274"
      ]
     },
     "execution_count": 14,
     "metadata": {},
     "output_type": "execute_result"
    }
   ],
   "source": [
    "predict(model, test)"
   ]
  },
  {
   "cell_type": "code",
   "execution_count": 16,
   "metadata": {},
   "outputs": [
    {
     "data": {
      "text/plain": [
       "0.8862096587762619"
      ]
     },
     "execution_count": 16,
     "metadata": {},
     "output_type": "execute_result"
    }
   ],
   "source": [
    "# 模型評估\n",
    "GLM.r²(model)"
   ]
  },
  {
   "cell_type": "code",
   "execution_count": 17,
   "metadata": {},
   "outputs": [
    {
     "data": {
      "text/plain": [
       "0.88361696745724"
      ]
     },
     "execution_count": 17,
     "metadata": {},
     "output_type": "execute_result"
    }
   ],
   "source": [
    "GLM.adjr²(model)"
   ]
  }
 ],
 "metadata": {
  "kernelspec": {
   "display_name": "Julia 1.4.1",
   "language": "julia",
   "name": "julia-1.4"
  },
  "language_info": {
   "file_extension": ".jl",
   "mimetype": "application/julia",
   "name": "julia",
   "version": "1.4.1"
  }
 },
 "nbformat": 4,
 "nbformat_minor": 4
}
