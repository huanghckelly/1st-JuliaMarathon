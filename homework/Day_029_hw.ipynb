{
 "cells": [
  {
   "cell_type": "markdown",
   "metadata": {},
   "source": [
    "# Julia 機器學習：LIBSVM 支撐向量機\n",
    "\n",
    "## 作業 029：\n",
    "\n",
    "請使用 SVM 來建立一個預測模型，來對手寫數字辨識資料集，建立一個分類模型，預測數字為何。\n",
    "\n",
    "本作業需要使用到的套件有 MLDatasets，請在執行以下範例前先安裝。\n",
    "\n",
    "```\n",
    "] add MLDatasets\n",
    "```"
   ]
  },
  {
   "cell_type": "code",
   "execution_count": 1,
   "metadata": {},
   "outputs": [],
   "source": [
    "using LIBSVM, MLDatasets, Statistics"
   ]
  },
  {
   "cell_type": "markdown",
   "metadata": {},
   "source": [
    "## 讀取資料"
   ]
  },
  {
   "cell_type": "markdown",
   "metadata": {},
   "source": [
    "呼叫 MNIST 資料集的過程中，會先去檢查以前是否有下載過，如果是第一次下載，過程中會詢問是否下載資料集，請回答 `y`。"
   ]
  },
  {
   "cell_type": "code",
   "execution_count": 2,
   "metadata": {
    "collapsed": true
   },
   "outputs": [
    {
     "data": {
      "text/plain": [
       "(FixedPointNumbers.Normed{UInt8,8}[0.0N0f8 0.0N0f8 … 0.0N0f8 0.0N0f8; 0.0N0f8 0.0N0f8 … 0.0N0f8 0.0N0f8; … ; 0.0N0f8 0.0N0f8 … 0.0N0f8 0.0N0f8; 0.0N0f8 0.0N0f8 … 0.0N0f8 0.0N0f8]\n",
       "\n",
       "FixedPointNumbers.Normed{UInt8,8}[0.0N0f8 0.0N0f8 … 0.0N0f8 0.0N0f8; 0.0N0f8 0.0N0f8 … 0.0N0f8 0.0N0f8; … ; 0.0N0f8 0.0N0f8 … 0.0N0f8 0.0N0f8; 0.0N0f8 0.0N0f8 … 0.0N0f8 0.0N0f8]\n",
       "\n",
       "FixedPointNumbers.Normed{UInt8,8}[0.0N0f8 0.0N0f8 … 0.0N0f8 0.0N0f8; 0.0N0f8 0.0N0f8 … 0.0N0f8 0.0N0f8; … ; 0.0N0f8 0.0N0f8 … 0.0N0f8 0.0N0f8; 0.0N0f8 0.0N0f8 … 0.0N0f8 0.0N0f8]\n",
       "\n",
       "...\n",
       "\n",
       "FixedPointNumbers.Normed{UInt8,8}[0.0N0f8 0.0N0f8 … 0.0N0f8 0.0N0f8; 0.0N0f8 0.0N0f8 … 0.0N0f8 0.0N0f8; … ; 0.0N0f8 0.0N0f8 … 0.0N0f8 0.0N0f8; 0.0N0f8 0.0N0f8 … 0.0N0f8 0.0N0f8]\n",
       "\n",
       "FixedPointNumbers.Normed{UInt8,8}[0.0N0f8 0.0N0f8 … 0.0N0f8 0.0N0f8; 0.0N0f8 0.0N0f8 … 0.0N0f8 0.0N0f8; … ; 0.0N0f8 0.0N0f8 … 0.0N0f8 0.0N0f8; 0.0N0f8 0.0N0f8 … 0.0N0f8 0.0N0f8]\n",
       "\n",
       "FixedPointNumbers.Normed{UInt8,8}[0.0N0f8 0.0N0f8 … 0.0N0f8 0.0N0f8; 0.0N0f8 0.0N0f8 … 0.0N0f8 0.0N0f8; … ; 0.0N0f8 0.0N0f8 … 0.0N0f8 0.0N0f8; 0.0N0f8 0.0N0f8 … 0.0N0f8 0.0N0f8], [7, 2, 1, 0, 4, 1, 4, 9, 5, 9  …  2, 3, 9, 0, 1, 2, 2, 0, 8, 9])"
      ]
     },
     "execution_count": 2,
     "metadata": {},
     "output_type": "execute_result"
    }
   ],
   "source": [
    "train_X, train_y = MNIST.traindata(1:10000)\n",
    "test_X,  test_y  = MNIST.testdata(1:1000)"
   ]
  },
  {
   "cell_type": "markdown",
   "metadata": {},
   "source": [
    "## 資料轉換"
   ]
  },
  {
   "cell_type": "code",
   "execution_count": 9,
   "metadata": {},
   "outputs": [
    {
     "ename": "ArgumentError",
     "evalue": "ArgumentError: invalid index: ! of type typeof(!)",
     "output_type": "error",
     "traceback": [
      "ArgumentError: invalid index: ! of type typeof(!)",
      "",
      "Stacktrace:",
      " [1] to_index(::Function) at .\\indices.jl:297",
      " [2] to_index(::Base.ReinterpretArray{FixedPointNumbers.Normed{UInt8,8},3,UInt8,Array{UInt8,3}}, ::Function) at .\\indices.jl:274",
      " [3] to_indices(::Base.ReinterpretArray{FixedPointNumbers.Normed{UInt8,8},3,UInt8,Array{UInt8,3}}, ::Tuple{Base.OneTo{Int64},Base.OneTo{Int64},Base.OneTo{Int64}}, ::Tuple{typeof(!),UnitRange{Int64}}) at .\\indices.jl:325",
      " [4] to_indices at .\\indices.jl:321 [inlined]",
      " [5] getindex(::Base.ReinterpretArray{FixedPointNumbers.Normed{UInt8,8},3,UInt8,Array{UInt8,3}}, ::Function, ::UnitRange{Int64}) at .\\abstractarray.jl:980",
      " [6] top-level scope at In[9]:1"
     ]
    }
   ],
   "source": [
    "train_X = Matrix(train_X[!, 1:28])\n",
    "test_X = # convert to the shape that fits model"
   ]
  },
  {
   "cell_type": "code",
   "execution_count": 5,
   "metadata": {},
   "outputs": [
    {
     "ename": "MethodError",
     "evalue": "MethodError: Cannot `convert` an object of type Int64 to an object of type String\nClosest candidates are:\n  convert(::Type{T}, !Matched::T) where T<:AbstractString at strings/basic.jl:209\n  convert(::Type{T}, !Matched::AbstractString) where T<:AbstractString at strings/basic.jl:210\n  convert(::Type{T}, !Matched::T) where T at essentials.jl:171",
     "output_type": "error",
     "traceback": [
      "MethodError: Cannot `convert` an object of type Int64 to an object of type String\nClosest candidates are:\n  convert(::Type{T}, !Matched::T) where T<:AbstractString at strings/basic.jl:209\n  convert(::Type{T}, !Matched::AbstractString) where T<:AbstractString at strings/basic.jl:210\n  convert(::Type{T}, !Matched::T) where T at essentials.jl:171",
      "",
      "Stacktrace:",
      " [1] setindex!(::Array{String,1}, ::Int64, ::Int64) at .\\array.jl:826",
      " [2] copyto! at .\\multidimensional.jl:962 [inlined]",
      " [3] Array{String,1}(::Array{Int64,1}) at .\\array.jl:541",
      " [4] top-level scope at In[5]:1"
     ]
    }
   ],
   "source": [
    "train_y = Vector{String}(train_y);\n",
    "test_y = Vector{String}(test_y);"
   ]
  },
  {
   "cell_type": "markdown",
   "metadata": {},
   "source": [
    "## 預測"
   ]
  },
  {
   "cell_type": "code",
   "execution_count": 12,
   "metadata": {},
   "outputs": [
    {
     "ename": "BoundsError",
     "evalue": "BoundsError: attempt to access 28×28×1000 reinterpret(FixedPointNumbers.Normed{UInt8,8}, ::Array{UInt8,3}) at index [1, Base.Slice(Base.OneTo(28))]",
     "output_type": "error",
     "traceback": [
      "BoundsError: attempt to access 28×28×1000 reinterpret(FixedPointNumbers.Normed{UInt8,8}, ::Array{UInt8,3}) at index [1, Base.Slice(Base.OneTo(28))]",
      "",
      "Stacktrace:",
      " [1] throw_boundserror(::Base.ReinterpretArray{FixedPointNumbers.Normed{UInt8,8},3,UInt8,Array{UInt8,3}}, ::Tuple{Int64,Base.Slice{Base.OneTo{Int64}}}) at .\\abstractarray.jl:537",
      " [2] checkbounds at .\\abstractarray.jl:502 [inlined]",
      " [3] _getindex at .\\multidimensional.jl:726 [inlined]",
      " [4] getindex(::Base.ReinterpretArray{FixedPointNumbers.Normed{UInt8,8},3,UInt8,Array{UInt8,3}}, ::Int64, ::Function) at .\\abstractarray.jl:980",
      " [5] top-level scope at .\\In[12]:3"
     ]
    }
   ],
   "source": [
    "ŷ = String[]\n",
    "for i = 1:size(test_X, 1)\n",
    "    y_ = LIBSVM.predict(model, Matrix(test_X[i, :]'))\n",
    "    append!(ŷ, y_)\n",
    "end"
   ]
  },
  {
   "cell_type": "markdown",
   "metadata": {},
   "source": [
    "## 評估"
   ]
  },
  {
   "cell_type": "code",
   "execution_count": null,
   "metadata": {},
   "outputs": [],
   "source": [
    "accuracy() = mean((predicted_labels .== y))*100"
   ]
  },
  {
   "cell_type": "code",
   "execution_count": null,
   "metadata": {},
   "outputs": [],
   "source": [
    "accuracy()"
   ]
  }
 ],
 "metadata": {
  "kernelspec": {
   "display_name": "Julia 1.4.1",
   "language": "julia",
   "name": "julia-1.4"
  },
  "language_info": {
   "file_extension": ".jl",
   "mimetype": "application/julia",
   "name": "julia",
   "version": "1.4.1"
  }
 },
 "nbformat": 4,
 "nbformat_minor": 4
}
