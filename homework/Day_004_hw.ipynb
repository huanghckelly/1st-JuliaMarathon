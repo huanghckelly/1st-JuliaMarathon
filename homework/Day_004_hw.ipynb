{
 "cells": [
  {
   "cell_type": "markdown",
   "metadata": {},
   "source": [
    "列出 Int128, Int32, Int16, Int8, UInt128, UInt64, UInt32, UInt16, UInt8 整數型別的最小值及最大值"
   ]
  },
  {
   "cell_type": "code",
   "execution_count": 2,
   "metadata": {},
   "outputs": [
    {
     "name": "stdout",
     "output_type": "stream",
     "text": [
      "Int128 : 最小值 -170141183460469231731687303715884105728, 最大值 170141183460469231731687303715884105727\n",
      "Int32  : 最小值 -2147483648, 最大值 2147483647\n",
      "Int16  : 最小值 -32768, 最大值 32767\n",
      "Int8   : 最小值 -128, 最大值 127\n",
      "UInt128: 最小值 0, 最大值 340282366920938463463374607431768211455\n",
      "UInt64 : 最小值 0, 最大值 18446744073709551615\n",
      "UInt32 : 最小值 0, 最大值 4294967295\n",
      "UInt16 : 最小值 0, 最大值 65535\n",
      "UInt8  : 最小值 0, 最大值 255\n"
     ]
    }
   ],
   "source": [
    "println(\"$(rpad(Int128,7)): 最小值 $(typemin(Int128)), 最大值 $(typemax(Int128))\")\n",
    "println(\"$(rpad(Int32,7)): 最小值 $(typemin(Int32)), 最大值 $(typemax(Int32))\")\n",
    "println(\"$(rpad(Int16,7)): 最小值 $(typemin(Int16)), 最大值 $(typemax(Int16))\")\n",
    "println(\"$(rpad(Int8,7)): 最小值 $(typemin(Int8)), 最大值 $(typemax(Int8))\")\n",
    "println(\"$(rpad(UInt128,7)): 最小值 $(typemin(UInt128)), 最大值 $(typemax(UInt128))\")\n",
    "println(\"$(rpad(UInt64,7)): 最小值 $(typemin(UInt64)), 最大值 $(typemax(UInt64))\")\n",
    "println(\"$(rpad(UInt32,7)): 最小值 $(typemin(UInt32)), 最大值 $(typemax(UInt32))\")\n",
    "println(\"$(rpad(UInt16,7)): 最小值 $(typemin(UInt16)), 最大值 $(typemax(UInt16))\")\n",
    "println(\"$(rpad(UInt8,7)): 最小值 $(typemin(UInt8)), 最大值 $(typemax(UInt8))\")"
   ]
  },
  {
   "cell_type": "markdown",
   "metadata": {},
   "source": [
    "列出 Float32, Float16 浮點數型別的最小和最大值"
   ]
  },
  {
   "cell_type": "code",
   "execution_count": 5,
   "metadata": {},
   "outputs": [
    {
     "name": "stdout",
     "output_type": "stream",
     "text": [
      "Float32: 最小值 -Inf, 最大值 Inf\n",
      "Float16: 最小值 -Inf, 最大值 Inf\n"
     ]
    }
   ],
   "source": [
    "println(\"$(rpad(Float32,7)): 最小值 $(typemin(Float32)), 最大值 $(typemax(Float32))\")\n",
    "println(\"$(rpad(Float16,7)): 最小值 $(typemin(Float16)), 最大值 $(typemax(Float16))\")"
   ]
  }
 ],
 "metadata": {
  "kernelspec": {
   "display_name": "Julia 1.4.1",
   "language": "julia",
   "name": "julia-1.4"
  },
  "language_info": {
   "file_extension": ".jl",
   "mimetype": "application/julia",
   "name": "julia",
   "version": "1.4.1"
  }
 },
 "nbformat": 4,
 "nbformat_minor": 4
}
